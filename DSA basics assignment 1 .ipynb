{
 "cells": [
  {
   "cell_type": "code",
   "execution_count": 1,
   "id": "449b6d56",
   "metadata": {},
   "outputs": [
    {
     "name": "stdout",
     "output_type": "stream",
     "text": [
      "[(4, 3), (5, 2), (6, 1)]\n"
     ]
    }
   ],
   "source": [
    "def find_pairs_with_sum(arr, target_sum):\n",
    "    pairs = []\n",
    "    seen = set()\n",
    "    \n",
    "    for num in arr:\n",
    "        complement = target_sum - num\n",
    "        if complement in seen:\n",
    "            pairs.append((num, complement))\n",
    "        seen.add(num)\n",
    "    \n",
    "    return pairs\n",
    "\n",
    "arr = [1, 2, 3, 4, 5, 6]\n",
    "target_sum = 7\n",
    "result = find_pairs_with_sum(arr, target_sum)\n",
    "print(result)"
   ]
  },
  {
   "cell_type": "code",
   "execution_count": 2,
   "id": "22ce5222",
   "metadata": {},
   "outputs": [
    {
     "name": "stdout",
     "output_type": "stream",
     "text": [
      "[5, 4, 3, 2, 1]\n"
     ]
    }
   ],
   "source": [
    "\n",
    "#Q2. Write a program to reverse an array in place?\n",
    "\n",
    "def reverse_array(arr):\n",
    "    left, right = 0, len(arr) - 1\n",
    "    while left < right:\n",
    "        arr[left], arr[right] = arr[right], arr[left]\n",
    "        left += 1\n",
    "        right -= 1\n",
    "\n",
    "arr = [1, 2, 3, 4, 5]\n",
    "reverse_array(arr)\n",
    "print(arr)"
   ]
  },
  {
   "cell_type": "code",
   "execution_count": 3,
   "id": "870b19e8",
   "metadata": {},
   "outputs": [
    {
     "name": "stdout",
     "output_type": "stream",
     "text": [
      "True\n"
     ]
    }
   ],
   "source": [
    "#Q3. Write a program to check if two strings are a rotation of each other?\n",
    "\n",
    "def are_rotations(str1, str2):\n",
    "    if len(str1) != len(str2):\n",
    "        return False\n",
    "    concatenated = str1 + str1\n",
    "    return str2 in concatenated\n",
    "\n",
    "# Example usage:\n",
    "str1 = \"abcd\"\n",
    "str2 = \"cdab\"\n",
    "print(are_rotations(str1, str2))"
   ]
  },
  {
   "cell_type": "code",
   "execution_count": 4,
   "id": "73c74a1c",
   "metadata": {},
   "outputs": [
    {
     "name": "stdout",
     "output_type": "stream",
     "text": [
      "p\n"
     ]
    }
   ],
   "source": [
    "\n",
    "#Q4. Write a program to print the first non-repeated character from a string?\n",
    "\n",
    "def first_non_repeated_char(string):\n",
    "    char_count = {}\n",
    "    for char in string:\n",
    "        char_count[char] = char_count.get(char, 0) + 1\n",
    "    for char in string:\n",
    "        if char_count[char] == 1:\n",
    "            return char\n",
    "    return None\n",
    "\n",
    "input_string = \"programming\"\n",
    "result = first_non_repeated_char(input_string)\n",
    "print(result)"
   ]
  },
  {
   "cell_type": "code",
   "execution_count": 5,
   "id": "18fe0cff",
   "metadata": {},
   "outputs": [
    {
     "name": "stdout",
     "output_type": "stream",
     "text": [
      "Move disk 1 from A to C\n",
      "Move disk 2 from A to B\n",
      "Move disk 1 from C to B\n",
      "Move disk 3 from A to C\n",
      "Move disk 1 from B to A\n",
      "Move disk 2 from B to C\n",
      "Move disk 1 from A to C\n"
     ]
    }
   ],
   "source": [
    "\n",
    "#Q5. Read about the Tower of Hanoi algorithm. Write a program to implement it.\n",
    "\n",
    "def tower_of_hanoi(n, source, auxiliary, target):\n",
    "    if n == 1:\n",
    "        print(f\"Move disk 1 from {source} to {target}\")\n",
    "        return\n",
    "    tower_of_hanoi(n-1, source, target, auxiliary)\n",
    "    print(f\"Move disk {n} from {source} to {target}\")\n",
    "    tower_of_hanoi(n-1, auxiliary, source, target)\n",
    "    \n",
    "tower_of_hanoi(3, 'A', 'B', 'C')"
   ]
  },
  {
   "cell_type": "code",
   "execution_count": 6,
   "id": "af1dade0",
   "metadata": {},
   "outputs": [
    {
     "name": "stdout",
     "output_type": "stream",
     "text": [
      "*+abc\n"
     ]
    }
   ],
   "source": [
    "#Q6. Read about infix, prefix, and postfix expressions. Write a program to convert postfix to prefix expression.\n",
    "\n",
    "def postfix_to_prefix(expression):\n",
    "    stack = []\n",
    "    operators = set(['+', '-', '*', '/', '^'])\n",
    "    \n",
    "    for char in expression:\n",
    "        if char not in operators:\n",
    "            stack.append(char)\n",
    "        else:\n",
    "            operand2 = stack.pop()\n",
    "            operand1 = stack.pop()\n",
    "            new_expression = char + operand1 + operand2\n",
    "            stack.append(new_expression)\n",
    "    \n",
    "    return stack[0]\n",
    "\n",
    "postfix_expression = \"ab+c*\"\n",
    "prefix_expression = postfix_to_prefix(postfix_expression)\n",
    "print(prefix_expression)"
   ]
  },
  {
   "cell_type": "code",
   "execution_count": 7,
   "id": "ef4c9b13",
   "metadata": {},
   "outputs": [
    {
     "name": "stdout",
     "output_type": "stream",
     "text": [
      "((a+b)*c)\n"
     ]
    }
   ],
   "source": [
    "\n",
    "#Q7. Write a program to convert prefix expression to infix expression.\n",
    "\n",
    "def prefix_to_infix(expression):\n",
    "    stack = []\n",
    "    operators = set(['+', '-', '*', '/', '^'])\n",
    "    \n",
    "    for char in reversed(expression):\n",
    "        if char not in operators:\n",
    "            stack.append(char)\n",
    "        else:\n",
    "            operand1 = stack.pop()\n",
    "            operand2 = stack.pop()\n",
    "            new_expression = '(' + operand1 + char + operand2 + ')'\n",
    "            stack.append(new_expression)\n",
    "    \n",
    "    return stack[0]\n",
    "\n",
    "prefix_expression = \"*+abc\"\n",
    "infix_expression = prefix_to_infix(prefix_expression)\n",
    "print(infix_expression)"
   ]
  },
  {
   "cell_type": "code",
   "execution_count": 8,
   "id": "0344c640",
   "metadata": {},
   "outputs": [
    {
     "name": "stdout",
     "output_type": "stream",
     "text": [
      "True\n"
     ]
    }
   ],
   "source": [
    "#Q8. Write a program to check if all the brackets are closed in a given code snippet.\n",
    "\n",
    "def are_brackets_balanced(code):\n",
    "    stack = []\n",
    "    opening_brackets = \"([{\"\n",
    "    closing_brackets = \")]}\"\n",
    "    \n",
    "    for char in code:\n",
    "        if char in opening_brackets:\n",
    "            stack.append(char)\n",
    "        elif char in closing_brackets:\n",
    "            if not stack:\n",
    "                return False\n",
    "            top = stack.pop()\n",
    "            if opening_brackets.index(top) != closing_brackets.index(char):\n",
    "                return False\n",
    "    \n",
    "    return len(stack) == 0\n",
    "\n",
    "code_snippet = \"{[()]}\"\n",
    "print(are_brackets_balanced(code_snippet))"
   ]
  },
  {
   "cell_type": "code",
   "execution_count": 10,
   "id": "63942677",
   "metadata": {},
   "outputs": [
    {
     "name": "stdout",
     "output_type": "stream",
     "text": [
      "[5, 4, 3, 2, 1]\n"
     ]
    }
   ],
   "source": [
    "\n",
    "#Q9. Write a program to reverse a stack.\n",
    "\n",
    "def reverse_stack(stack):\n",
    "    if not stack:\n",
    "        return\n",
    "    \n",
    "    temp = stack.pop()\n",
    "    reverse_stack(stack)\n",
    "    _insert_at_bottom(stack, temp)\n",
    "\n",
    "def _insert_at_bottom(stack, item):\n",
    "    if not stack:\n",
    "        stack.append(item)\n",
    "    else:\n",
    "        temp = stack.pop()\n",
    "        _insert_at_bottom(stack, item)\n",
    "        stack.append(temp)\n",
    "        \n",
    "stack = [1, 2, 3, 4, 5]\n",
    "reverse_stack(stack)\n",
    "print(stack)"
   ]
  },
  {
   "cell_type": "code",
   "execution_count": 15,
   "id": "6c3e62ef",
   "metadata": {},
   "outputs": [
    {
     "name": "stdout",
     "output_type": "stream",
     "text": [
      "1\n",
      "2\n"
     ]
    }
   ],
   "source": [
    "\n",
    "#Q10. Write a program to find the smallest number using a stack.\n",
    "\n",
    "class MinStack:\n",
    "    def __init__(self):\n",
    "        self.stack = []\n",
    "        self.min_stack = []\n",
    "\n",
    "    def push(self, value):\n",
    "        self.stack.append(value)\n",
    "        if not self.min_stack or value <= self.min_stack[-1]:\n",
    "            self.min_stack.append(value)\n",
    "\n",
    "    def pop(self):\n",
    "        if not self.stack:\n",
    "            return None\n",
    "        if self.stack[-1] == self.min_stack[-1]:\n",
    "            self.min_stack.pop()\n",
    "        return self.stack.pop()\n",
    "\n",
    "    def get_min(self):\n",
    "        if not self.min_stack:\n",
    "            return None\n",
    "        return self.min_stack[-1]\n",
    "    \n",
    "stack = MinStack()\n",
    "stack.push(5)\n",
    "stack.push(2)\n",
    "stack.push(8)\n",
    "stack.push(1)\n",
    "print(stack.get_min())\n",
    "stack.pop()\n",
    "print(stack.get_min())\n"
   ]
  },
  {
   "cell_type": "code",
   "execution_count": null,
   "id": "c043281e",
   "metadata": {},
   "outputs": [],
   "source": []
  }
 ],
 "metadata": {
  "kernelspec": {
   "display_name": "Python 3 (ipykernel)",
   "language": "python",
   "name": "python3"
  },
  "language_info": {
   "codemirror_mode": {
    "name": "ipython",
    "version": 3
   },
   "file_extension": ".py",
   "mimetype": "text/x-python",
   "name": "python",
   "nbconvert_exporter": "python",
   "pygments_lexer": "ipython3",
   "version": "3.10.9"
  }
 },
 "nbformat": 4,
 "nbformat_minor": 5
}
